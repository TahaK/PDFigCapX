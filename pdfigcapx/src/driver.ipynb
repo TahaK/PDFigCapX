{
 "cells": [
  {
   "cell_type": "code",
   "execution_count": 1,
   "metadata": {},
   "outputs": [],
   "source": [
    "import utils\n",
    "from pathlib import Path\n",
    "\n",
    "base_test_folder = Path('../tests')\n",
    "output = base_test_folder / \"output\"\n"
   ]
  },
  {
   "cell_type": "code",
   "execution_count": 2,
   "metadata": {},
   "outputs": [
    {
     "data": {
      "text/plain": [
       "PosixPath('/home/jtt/repos/PDFigCapX/pdfigcapx/tests/output/pdf3')"
      ]
     },
     "execution_count": 2,
     "metadata": {},
     "output_type": "execute_result"
    }
   ],
   "source": [
    "xpdf_path = Path(base_test_folder / \"output\" / \"pdf3\").resolve()\n",
    "# pages = main.get_pages(Path(xpdf_path))\n",
    "xpdf_path"
   ]
  },
  {
   "cell_type": "code",
   "execution_count": 3,
   "metadata": {},
   "outputs": [
    {
     "name": "stdout",
     "output_type": "stream",
     "text": [
      "0.6265919208526611\n",
      "\n",
      "\t 0.021064043045043945\n",
      "0 0.06572914123535156\n",
      "\t 0.019367218017578125\n",
      "1 0.04519820213317871\n",
      "\t 0.40831875801086426\n",
      "2 0.44069409370422363\n",
      "\t 0.0244901180267334\n",
      "3 0.06385493278503418\n",
      "\t 0.5737183094024658\n",
      "4 0.657501220703125\n",
      "\t 0.40583348274230957\n",
      "5 0.4532444477081299\n",
      "\t 0.08780193328857422\n",
      "6 0.12891268730163574\n",
      "\t 0.9078464508056641\n",
      "7 0.9476568698883057\n",
      "\t 0.11501598358154297\n",
      "8 0.14890789985656738\n",
      "\t 0.7357068061828613\n",
      "9 0.7774209976196289\n",
      "\t 0.951765775680542\n",
      "10 0.9876377582550049\n",
      "\t 0.8072764873504639\n",
      "11 0.8514573574066162\n",
      "\t 0.8075973987579346\n",
      "12 0.8476827144622803\n",
      "\t 0.029084444046020508\n",
      "13 0.057878971099853516\n",
      "\t 0.029177427291870117\n",
      "14 0.05765175819396973\n",
      "\t 1.0475385189056396\n",
      "15 1.0881149768829346\n",
      "\t 0.031681060791015625\n",
      "16 0.06333112716674805\n"
     ]
    }
   ],
   "source": [
    "from os import listdir\n",
    "import time\n",
    "\n",
    "page_names = [\n",
    "    x for x in listdir(xpdf_path) if x.endswith(\".html\") and x.startswith(\"page\")\n",
    "]\n",
    "t = time.time()\n",
    "browser = utils.launch_chromedriver()\n",
    "print(time.time() - t)\n",
    "print()\n",
    "\n",
    "html_pages = []\n",
    "times = []\n",
    "for idx, page_name in enumerate(page_names):\n",
    "    t = time.time()\n",
    "    html_page = utils.extract_page_text_content(\n",
    "        browser, (xpdf_path / page_name).resolve()\n",
    "    )\n",
    "    html_pages.append(html_page)\n",
    "    times.append(time.time() - t)\n",
    "    print(idx, time.time() - t)\n",
    "\n",
    "browser.quit()\n",
    "\n",
    "# html_pages = sorted(html_pages, key=lambda x: x.page_number)"
   ]
  },
  {
   "cell_type": "code",
   "execution_count": 4,
   "metadata": {},
   "outputs": [
    {
     "data": {
      "text/plain": [
       "[0, 0, 0, 0, 0, 0, 0, 0, 0, 0, 0, 0, 0, 0, 0, 0, 0]"
      ]
     },
     "execution_count": 4,
     "metadata": {},
     "output_type": "execute_result"
    }
   ],
   "source": [
    "t_lens = [len(x.text_containers) for x in html_pages]\n",
    "t_lens"
   ]
  },
  {
   "cell_type": "code",
   "execution_count": 5,
   "metadata": {},
   "outputs": [
    {
     "data": {
      "text/plain": [
       "<matplotlib.collections.PathCollection at 0x7ff361442340>"
      ]
     },
     "execution_count": 5,
     "metadata": {},
     "output_type": "execute_result"
    },
    {
     "data": {
      "image/png": "[encoded data removed]",
      "text/plain": [
       "<Figure size 640x480 with 1 Axes>"
      ]
     },
     "metadata": {},
     "output_type": "display_data"
    }
   ],
   "source": [
    "import matplotlib.pyplot as plt\n",
    "\n",
    "plt.scatter(t_lens, times)"
   ]
  },
  {
   "cell_type": "code",
   "execution_count": null,
   "metadata": {},
   "outputs": [],
   "source": []
  }
 ],
 "metadata": {
  "kernelspec": {
   "display_name": "Python 3.9.7 ('.venv': poetry)",
   "language": "python",
   "name": "python3"
  },
  "language_info": {
   "codemirror_mode": {
    "name": "ipython",
    "version": 3
   },
   "file_extension": ".py",
   "mimetype": "text/x-python",
   "name": "python",
   "nbconvert_exporter": "python",
   "pygments_lexer": "ipython3",
   "version": "3.9.7"
  },
  "orig_nbformat": 4,
  "vscode": {
   "interpreter": {
    "hash": "ec9a853f35f1b49ec3e81687ee54a5efaabe3a4e769438b3e5b2643b3308c059"
   }
  }
 },
 "nbformat": 4,
 "nbformat_minor": 2
}
