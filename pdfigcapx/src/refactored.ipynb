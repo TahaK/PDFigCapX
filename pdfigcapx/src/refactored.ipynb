{
 "cells": [
  {
   "cell_type": "code",
   "execution_count": 1,
   "metadata": {},
   "outputs": [],
   "source": [
    "import logging\n",
    "from src.document import Document\n",
    "\n",
    "pdf_path = \"/home/jtt/Documents/datasets/gxd/5812826.pdf\"\n",
    "xpdf_base_path = \"/home/jtt/Documents/outputs/xpdf\"\n",
    "data_path = \"/home/jtt/Documents/outputs/debug\"\n",
    "log_path = \"/home/jtt/Documents/outputs/debug/debug.log\"\n",
    "\n",
    "logging.basicConfig(\n",
    "        filename=log_path,\n",
    "        filemode=\"a\",\n",
    "        format=\"%(asctime)s - %(levelname)s - %(message)s\",\n",
    "        level=logging.INFO,\n",
    "    )\n"
   ]
  },
  {
   "cell_type": "code",
   "execution_count": 2,
   "metadata": {},
   "outputs": [],
   "source": [
    "document = Document(pdf_path, xpdf_base_path, data_path, include_first_page=False)"
   ]
  },
  {
   "cell_type": "code",
   "execution_count": 3,
   "metadata": {},
   "outputs": [],
   "source": [
    "document.extract_figures()"
   ]
  },
  {
   "cell_type": "code",
   "execution_count": 4,
   "metadata": {},
   "outputs": [],
   "source": [
    "document.draw(n_cols=6, txtr=True, save=True)"
   ]
  },
  {
   "cell_type": "code",
   "execution_count": null,
   "metadata": {},
   "outputs": [],
   "source": []
  },
  {
   "cell_type": "code",
   "execution_count": null,
   "metadata": {},
   "outputs": [],
   "source": []
  }
 ],
 "metadata": {
  "kernelspec": {
   "display_name": "Python 3.9.7 ('.venv': poetry)",
   "language": "python",
   "name": "python3"
  },
  "language_info": {
   "codemirror_mode": {
    "name": "ipython",
    "version": 3
   },
   "file_extension": ".py",
   "mimetype": "text/x-python",
   "name": "python",
   "nbconvert_exporter": "python",
   "pygments_lexer": "ipython3",
   "version": "3.9.7"
  },
  "orig_nbformat": 4,
  "vscode": {
   "interpreter": {
    "hash": "ec9a853f35f1b49ec3e81687ee54a5efaabe3a4e769438b3e5b2643b3308c059"
   }
  }
 },
 "nbformat": 4,
 "nbformat_minor": 2
}
